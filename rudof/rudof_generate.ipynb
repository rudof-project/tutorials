{
 "cells": [
  {
   "cell_type": "markdown",
   "id": "fcf087f9",
   "metadata": {},
   "source": [
    "# Generating RDF Data from shapes\n",
    "\n",
    "This tutorial demonstrates how to use the Python bindings for `rudof_generate` to create synthetic RDF datasets from ShEx and SHACL schemas.\n",
    "\n",
    "## What You'll Learn\n",
    "\n",
    "- How to configure the data generator\n",
    "- How to generate RDF data from schemas\n",
    "- How to control randomness and reproducibility\n",
    "- How to customize output formats and options\n",
    "- How to use configuration files\n",
    "\n",
    "## Prerequisites\n",
    "\n",
    "Make sure you have `pyrudof` installed:\n",
    "```bash\n",
    "pip install pyrudof\n",
    "```\n",
    "\n",
    "Or install from source:\n",
    "```bash\n",
    "cd ../python\n",
    "pip install -e .\n",
    "```"
   ]
  },
  {
   "cell_type": "markdown",
   "id": "5f8d40a4",
   "metadata": {},
   "source": [
    "## Part 1: Basic Setup\n",
    "\n",
    "First, let's import the library and check that everything is working."
   ]
  },
  {
   "cell_type": "code",
   "execution_count": 1,
   "id": "d8aec928",
   "metadata": {},
   "outputs": [
    {
     "name": "stdout",
     "output_type": "stream",
     "text": [
      "✓ pyrudof imported successfully!\n",
      "Available classes: GeneratorConfig, DataGenerator\n",
      "Available enums: SchemaFormat, OutputFormat, CardinalityStrategy\n"
     ]
    }
   ],
   "source": [
    "# Import the pyrudof library\n",
    "import pyrudof\n",
    "import os\n",
    "import json\n",
    "\n",
    "print(\"✓ pyrudof imported successfully!\")\n",
    "print(f\"Available classes: GeneratorConfig, DataGenerator\")\n",
    "print(f\"Available enums: SchemaFormat, OutputFormat, CardinalityStrategy\")"
   ]
  },
  {
   "cell_type": "markdown",
   "id": "c84b971c",
   "metadata": {},
   "source": [
    "## Part 2: Simple Example - Generate Data from a ShEx Schema\n",
    "\n",
    "Let's start with a simple example. We'll use a basic ShEx schema that defines Person and Course entities."
   ]
  },
  {
   "cell_type": "code",
   "execution_count": 2,
   "id": "1ebbe5aa",
   "metadata": {},
   "outputs": [
    {
     "name": "stdout",
     "output_type": "stream",
     "text": [
      "✓ Schema created:\n",
      "prefix : <http://example.org/>\n",
      "prefix xsd: <http://www.w3.org/2001/XMLSchema#>\n",
      "\n",
      ":Person { \n",
      "    :name       xsd:string  ;\n",
      "    :birthdate  xsd:date  ? ;\n",
      "    :enrolledIn @:Course *\n",
      "}\n",
      "\n",
      ":Course { \n",
      "    :name xsd:string \n",
      "}\n",
      "\n"
     ]
    }
   ],
   "source": [
    "# First, let's create a simple ShEx schema\n",
    "schema_content = \"\"\"prefix : <http://example.org/>\n",
    "prefix xsd: <http://www.w3.org/2001/XMLSchema#>\n",
    "\n",
    ":Person { \n",
    "    :name       xsd:string  ;\n",
    "    :birthdate  xsd:date  ? ;\n",
    "    :enrolledIn @:Course *\n",
    "}\n",
    "\n",
    ":Course { \n",
    "    :name xsd:string \n",
    "}\n",
    "\"\"\"\n",
    "\n",
    "# Save the schema to a file\n",
    "schema_path = \"/tmp/tutorial_schema.shex\"\n",
    "with open(schema_path, 'w') as f:\n",
    "    f.write(schema_content)\n",
    "\n",
    "print(\"✓ Schema created:\")\n",
    "print(schema_content)"
   ]
  },
  {
   "cell_type": "code",
   "execution_count": 3,
   "id": "6cdeb661",
   "metadata": {},
   "outputs": [
    {
     "name": "stdout",
     "output_type": "stream",
     "text": [
      "✓ Configuration created\n",
      "  Entity count: 10\n",
      "  Output path: /tmp/tutorial_output.ttl\n"
     ]
    }
   ],
   "source": [
    "# Create a basic configuration\n",
    "config = pyrudof.GeneratorConfig()\n",
    "\n",
    "# Set the number of entities to generate\n",
    "config.set_entity_count(10)\n",
    "\n",
    "# Set output path\n",
    "config.set_output_path(\"/tmp/tutorial_output.ttl\")\n",
    "\n",
    "# Set output format to Turtle (human-readable)\n",
    "config.set_output_format(pyrudof.OutputFormat.Turtle)\n",
    "\n",
    "print(\"✓ Configuration created\")\n",
    "print(f\"  Entity count: {config.get_entity_count()}\")\n",
    "print(f\"  Output path: {config.get_output_path()}\")"
   ]
  },
  {
   "cell_type": "code",
   "execution_count": 4,
   "id": "df30e00b",
   "metadata": {},
   "outputs": [
    {
     "name": "stdout",
     "output_type": "stream",
     "text": [
      "✓ Data generation completed!\n"
     ]
    }
   ],
   "source": [
    "# Create the data generator\n",
    "generator = pyrudof.DataGenerator(config)\n",
    "\n",
    "# Generate the data!\n",
    "generator.run(schema_path)\n",
    "\n",
    "print(\"✓ Data generation completed!\")"
   ]
  },
  {
   "cell_type": "code",
   "execution_count": 5,
   "id": "5e7d12de",
   "metadata": {},
   "outputs": [
    {
     "name": "stdout",
     "output_type": "stream",
     "text": [
      "Generated RDF Data:\n",
      "======================================================================\n",
      "<http://example.org/Course-1-0> a <http://example.org/Course> ;\n",
      "\t<http://example.org/name> \"Alpha149\" .\n",
      "<http://example.org/Person-2> a <http://example.org/Person> ;\n",
      "\t<http://example.org/birthdate> \"1976-03-08\"^^<http://www.w3.org/2001/XMLSchema#date> ;\n",
      "\t<http://example.org/name> \"Epsilon697\" ;\n",
      "\t<http://example.org/enrolledIn> <http://example.org/Course-1-0> , <http://example.org/Course-2> .\n",
      "<http://example.org/Course-2> a <http://example.org/Course> ;\n",
      "\t<http://example.org/name> \"Beta334\" .\n",
      "<http://example.org/Course-5> a <http://example.org/Course> ;\n",
      "\t<http://example.org/name> \"Delta694\" .\n",
      "<http://example.org/Course-3> a <http://example.org/Course> ;\n",
      "\t<http://example.org/name> \"Delta658\" .\n",
      "<http://example.org/Person-3> a <http://example.org/Person> ;\n",
      "\t<http://example.org/name> \"Epsilon993\" .\n",
      "<http://example.org/Course-1> a <http://example.org/Course> ;\n",
      "\t<http://example.org/name> \"Delta799\" .\n",
      "<http://example.org/Person-1> a <http://example.org/Person> ;\n",
      "\t<http://example.org/name> \"Alph\n",
      "======================================================================\n"
     ]
    }
   ],
   "source": [
    "# Let's view the generated data\n",
    "with open(\"/tmp/tutorial_output.ttl\", 'r') as f:\n",
    "    generated_data = f.read()\n",
    "\n",
    "print(\"Generated RDF Data:\")\n",
    "print(\"=\" * 70)\n",
    "print(generated_data[:1000])  # Show first 1000 characters\n",
    "print(\"=\" * 70)"
   ]
  },
  {
   "cell_type": "markdown",
   "id": "2870c92c",
   "metadata": {},
   "source": [
    "## Part 3: Advanced Configuration Options\n",
    "\n",
    "The generator supports many configuration options for fine-tuning data generation."
   ]
  },
  {
   "cell_type": "code",
   "execution_count": 6,
   "id": "bfc100b1",
   "metadata": {},
   "outputs": [
    {
     "name": "stdout",
     "output_type": "stream",
     "text": [
      "✓ Advanced configuration:\n",
      "  Entities: 20\n",
      "  Worker threads: 4\n",
      "  Statistics enabled: Yes\n"
     ]
    }
   ],
   "source": [
    "# Create a fully configured generator\n",
    "advanced_config = pyrudof.GeneratorConfig()\n",
    "\n",
    "# Generation settings\n",
    "advanced_config.set_entity_count(20)\n",
    "advanced_config.set_cardinality_strategy(pyrudof.CardinalityStrategy.Balanced)\n",
    "\n",
    "# Output settings\n",
    "advanced_config.set_output_path(\"/tmp/tutorial_advanced.ttl\")\n",
    "advanced_config.set_output_format(pyrudof.OutputFormat.Turtle)\n",
    "advanced_config.set_write_stats(True)  # Generate statistics\n",
    "advanced_config.set_compress(False)\n",
    "\n",
    "# Parallel processing (for large datasets)\n",
    "advanced_config.set_worker_threads(4)\n",
    "advanced_config.set_batch_size(100)\n",
    "\n",
    "print(\"✓ Advanced configuration:\")\n",
    "print(f\"  Entities: {advanced_config.get_entity_count()}\")\n",
    "print(f\"  Worker threads: {advanced_config.get_worker_threads()}\")\n",
    "print(f\"  Statistics enabled: Yes\")"
   ]
  },
  {
   "cell_type": "code",
   "execution_count": 7,
   "id": "ed1d29b0",
   "metadata": {},
   "outputs": [
    {
     "name": "stdout",
     "output_type": "stream",
     "text": [
      "✓ Data generated with advanced settings\n"
     ]
    }
   ],
   "source": [
    "# Generate with advanced settings\n",
    "advanced_generator = pyrudof.DataGenerator(advanced_config)\n",
    "advanced_generator.run(schema_path)\n",
    "\n",
    "print(\"✓ Data generated with advanced settings\")"
   ]
  },
  {
   "cell_type": "code",
   "execution_count": 8,
   "id": "31f2969f",
   "metadata": {},
   "outputs": [
    {
     "name": "stdout",
     "output_type": "stream",
     "text": [
      "📊 Generation Statistics:\n",
      "======================================================================\n",
      "{\n",
      "  \"total_triples\": 65,\n",
      "  \"total_subjects\": 25,\n",
      "  \"total_predicates\": 4,\n",
      "  \"total_objects\": 42,\n",
      "  \"generation_time\": \"0ms\",\n",
      "  \"shape_counts\": {\n",
      "    \"http://example.org/Person\": 10,\n",
      "    \"http://example.org/Course\": 15\n",
      "  }\n",
      "}\n",
      "======================================================================\n"
     ]
    }
   ],
   "source": [
    "# View the statistics file\n",
    "stats_path = \"/tmp/tutorial_advanced.stats.json\"\n",
    "if os.path.exists(stats_path):\n",
    "    with open(stats_path, 'r') as f:\n",
    "        stats = json.load(f)\n",
    "    \n",
    "    print(\"📊 Generation Statistics:\")\n",
    "    print(\"=\" * 70)\n",
    "    print(json.dumps(stats, indent=2))\n",
    "    print(\"=\" * 70)\n",
    "else:\n",
    "    print(\"No statistics file found\")"
   ]
  },
  {
   "cell_type": "markdown",
   "id": "3a4aa448",
   "metadata": {},
   "source": [
    "## Part 4: Cardinality Strategies\n",
    "\n",
    "Different strategies control how many related entities are created."
   ]
  },
  {
   "cell_type": "code",
   "execution_count": 9,
   "id": "3dc96fc7",
   "metadata": {},
   "outputs": [
    {
     "name": "stdout",
     "output_type": "stream",
     "text": [
      "Cardinality Strategy Comparison:\n",
      "======================================================================\n",
      "  Minimum     : 10 triples generated\n",
      "  Maximum     : 25 triples generated\n",
      "  Random      : 17 triples generated\n",
      "  Balanced    : 15 triples generated\n",
      "======================================================================\n",
      "\n",
      "Note: Different strategies affect how many relationships are created.\n"
     ]
    }
   ],
   "source": [
    "# Test different cardinality strategies\n",
    "strategies = [\n",
    "    (\"Minimum\", pyrudof.CardinalityStrategy.Minimum),\n",
    "    (\"Maximum\", pyrudof.CardinalityStrategy.Maximum),\n",
    "    (\"Random\", pyrudof.CardinalityStrategy.Random),\n",
    "    (\"Balanced\", pyrudof.CardinalityStrategy.Balanced),\n",
    "]\n",
    "\n",
    "results = {}\n",
    "\n",
    "for name, strategy in strategies:\n",
    "    config = pyrudof.GeneratorConfig()\n",
    "    config.set_entity_count(5)\n",
    "    config.set_cardinality_strategy(strategy)\n",
    "    config.set_output_path(f\"/tmp/tutorial_{name.lower()}.ttl\")\n",
    "    config.set_output_format(pyrudof.OutputFormat.Turtle)\n",
    "    config.set_write_stats(True)\n",
    "    \n",
    "    generator = pyrudof.DataGenerator(config)\n",
    "    generator.run(schema_path)\n",
    "    \n",
    "    # Read statistics\n",
    "    stats_path = f\"/tmp/tutorial_{name.lower()}.stats.json\"\n",
    "    if os.path.exists(stats_path):\n",
    "        with open(stats_path, 'r') as f:\n",
    "            stats = json.load(f)\n",
    "        results[name] = stats.get('total_triples', 0)\n",
    "\n",
    "print(\"Cardinality Strategy Comparison:\")\n",
    "print(\"=\" * 70)\n",
    "for name, triple_count in results.items():\n",
    "    print(f\"  {name:12s}: {triple_count} triples generated\")\n",
    "print(\"=\" * 70)\n",
    "print(\"\\nNote: Different strategies affect how many relationships are created.\")"
   ]
  },
  {
   "cell_type": "markdown",
   "id": "b14f6abf",
   "metadata": {},
   "source": [
    "### Custom Cardinality Configuration\n",
    "\n",
    "You can also specify custom cardinality ranges for specific properties in your schema. This gives you fine-grained control over how many related entities are generated for each relationship."
   ]
  },
  {
   "cell_type": "code",
   "execution_count": 10,
   "id": "38ea719d",
   "metadata": {},
   "outputs": [
    {
     "name": "stdout",
     "output_type": "stream",
     "text": [
      "✓ Custom cardinality schema created\n",
      "\n",
      "Key cardinality constraints:\n",
      "  • Each User has 2-5 friends (hasFriend)\n",
      "  • Each User has 0-10 posts (hasPost)\n",
      "  • Each Post has 0-50 likes (hasLike)\n"
     ]
    }
   ],
   "source": [
    "# Create a schema with specific cardinality constraints (using ShEx format)\n",
    "custom_schema_content = \"\"\"\n",
    "PREFIX ex: <http://example.org/>\n",
    "PREFIX xsd: <http://www.w3.org/2001/XMLSchema#>\n",
    "\n",
    "ex:User {\n",
    "    ex:name xsd:string ;\n",
    "    ex:email xsd:string ;\n",
    "    ex:hasFriend @ex:User {2,5} ;   # Each user must have 2-5 friends\n",
    "    ex:hasPost @ex:Post {0,10}       # Each user can have 0-10 posts\n",
    "}\n",
    "\n",
    "ex:Post {\n",
    "    ex:title xsd:string ;\n",
    "    ex:content xsd:string ;\n",
    "    ex:hasLike @ex:User {0,50}       # Each post can have 0-50 likes\n",
    "}\n",
    "\"\"\"\n",
    "\n",
    "# Save the custom schema (using .shex extension for ShEx format)\n",
    "custom_schema_path = \"/tmp/custom_cardinality_schema.shex\"\n",
    "with open(custom_schema_path, 'w') as f:\n",
    "    f.write(custom_schema_content)\n",
    "\n",
    "print(\"✓ Custom cardinality schema created\")\n",
    "print(\"\\nKey cardinality constraints:\")\n",
    "print(\"  • Each User has 2-5 friends (hasFriend)\")\n",
    "print(\"  • Each User has 0-10 posts (hasPost)\")\n",
    "print(\"  • Each Post has 0-50 likes (hasLike)\")"
   ]
  },
  {
   "cell_type": "code",
   "execution_count": 11,
   "id": "f980cd6d",
   "metadata": {},
   "outputs": [
    {
     "name": "stdout",
     "output_type": "stream",
     "text": [
      "Generating data with custom cardinality constraints:\n",
      "================================================================================\n",
      "\n",
      "Minimum Strategy:\n",
      "  hasFriend relationships: 2\n",
      "  hasPost relationships: 0\n",
      "  hasLike relationships: 0\n",
      "\n",
      "Maximum Strategy:\n",
      "  hasFriend relationships: 2\n",
      "  hasPost relationships: 2\n",
      "  hasLike relationships: 3\n",
      "\n",
      "Balanced Strategy:\n",
      "  hasFriend relationships: 2\n",
      "  hasPost relationships: 1\n",
      "  hasLike relationships: 2\n",
      "\n",
      "================================================================================\n",
      "\n",
      "Observations:\n",
      "  • Minimum strategy: Uses minCount values (2 friends, 0 posts, 0 likes)\n",
      "  • Maximum strategy: Uses maxCount values (5 friends, 10 posts, 50 likes)\n",
      "  • Balanced strategy: Picks values between min and max\n"
     ]
    }
   ],
   "source": [
    "# Generate data with different strategies to see how they respect cardinality constraints\n",
    "custom_strategies = [\n",
    "    (\"Minimum\", pyrudof.CardinalityStrategy.Minimum),\n",
    "    (\"Maximum\", pyrudof.CardinalityStrategy.Maximum),\n",
    "    (\"Balanced\", pyrudof.CardinalityStrategy.Balanced),\n",
    "]\n",
    "\n",
    "print(\"Generating data with custom cardinality constraints:\")\n",
    "print(\"=\" * 80)\n",
    "\n",
    "for name, strategy in custom_strategies:\n",
    "    config = pyrudof.GeneratorConfig()\n",
    "    config.set_entity_count(5)\n",
    "    config.set_cardinality_strategy(strategy)\n",
    "    config.set_output_path(f\"/tmp/custom_cardinality_{name.lower()}.ttl\")\n",
    "    config.set_output_format(pyrudof.OutputFormat.Turtle)\n",
    "    config.set_write_stats(True)\n",
    "    \n",
    "    generator = pyrudof.DataGenerator(config)\n",
    "    generator.run(custom_schema_path)\n",
    "    \n",
    "    # Read and analyze the generated data\n",
    "    with open(f\"/tmp/custom_cardinality_{name.lower()}.ttl\", 'r') as f:\n",
    "        data = f.read()\n",
    "    \n",
    "    hasFriend_count = data.count('hasFriend')\n",
    "    hasPost_count = data.count('hasPost')\n",
    "    hasLike_count = data.count('hasLike')\n",
    "    \n",
    "    print(f\"\\n{name} Strategy:\")\n",
    "    print(f\"  hasFriend relationships: {hasFriend_count}\")\n",
    "    print(f\"  hasPost relationships: {hasPost_count}\")\n",
    "    print(f\"  hasLike relationships: {hasLike_count}\")\n",
    "\n",
    "print(\"\\n\" + \"=\" * 80)\n",
    "print(\"\\nObservations:\")\n",
    "print(\"  • Minimum strategy: Uses minCount values (2 friends, 0 posts, 0 likes)\")\n",
    "print(\"  • Maximum strategy: Uses maxCount values (5 friends, 10 posts, 50 likes)\")\n",
    "print(\"  • Balanced strategy: Picks values between min and max\")"
   ]
  },
  {
   "cell_type": "code",
   "execution_count": 12,
   "id": "6b50e699",
   "metadata": {},
   "outputs": [
    {
     "name": "stdout",
     "output_type": "stream",
     "text": [
      "Sample of generated data with Balanced strategy:\n",
      "================================================================================\n",
      "<http://example.org/User-0-1> <http://example.org/email> \"test13@test.org\" ;\n",
      "\ta <http://example.org/User> ;\n",
      "\t<http://example.org/name> \"Gamma365\" .\n",
      "<http://example.org/User-1-0> <http://example.org/email> \"demo95@example.com\" , \"test60@sample.edu\" ;\n",
      "\ta <http://example.org/User> ;\n",
      "\t<http://example.org/name> \"Gamma244\" , \"Gamma412\" .\n",
      "<http://example.org/User-2-0> <http://example.org/email> \"test16@example.com\" ;\n",
      "\ta <http://example.org/User> ;\n",
      "\t<http://example.org/name> \"Epsilon144\" .\n",
      "<http://example.org/User-1-1> <http://example.org/email> \"test71@example.com\" ;\n",
      "\ta <http://example.org/User> ;\n",
      "\t<http://example.org/name> \"Beta502\" .\n",
      "<http://example.org/User-2> <http://example.org/email> \"admin28@test.org\" ;\n",
      "\t<http://example.org/hasFriend> <http://example.org/User-1-0> , <http://example.org/Use\n",
      "...\n",
      "================================================================================\n",
      "\n",
      "You can see how the generator respects the cardinality constraints\n",
      "defined in the schema while following the chosen strategy.\n"
     ]
    }
   ],
   "source": [
    "# Let's examine a sample of the generated data with Balanced strategy\n",
    "print(\"Sample of generated data with Balanced strategy:\")\n",
    "print(\"=\" * 80)\n",
    "\n",
    "with open(\"/tmp/custom_cardinality_balanced.ttl\", 'r') as f:\n",
    "    content = f.read()\n",
    "    # Show first 800 characters to see the structure\n",
    "    print(content[:800])\n",
    "    print(\"...\")\n",
    "\n",
    "print(\"=\" * 80)\n",
    "print(\"\\nYou can see how the generator respects the cardinality constraints\")\n",
    "print(\"defined in the schema while following the chosen strategy.\")"
   ]
  },
  {
   "cell_type": "markdown",
   "id": "4cac4633",
   "metadata": {},
   "source": [
    "## Part 5: Working with Configuration Files\n",
    "\n",
    "For complex configurations, you can save and load settings from TOML files."
   ]
  },
  {
   "cell_type": "code",
   "execution_count": 13,
   "id": "41426d23",
   "metadata": {},
   "outputs": [
    {
     "name": "stdout",
     "output_type": "stream",
     "text": [
      "✓ Configuration saved to TOML file\n",
      "\n",
      "Configuration file contents:\n",
      "======================================================================\n",
      "[generation]\n",
      "entity_count = 100\n",
      "entity_distribution = \"Equal\"\n",
      "cardinality_strategy = \"Balanced\"\n",
      "\n",
      "[field_generators.default]\n",
      "locale = \"en\"\n",
      "quality = \"Medium\"\n",
      "\n",
      "[field_generators.datatypes]\n",
      "\n",
      "[field_generators.properties]\n",
      "\n",
      "[output]\n",
      "path = \"/tmp/from_config.ttl\"\n",
      "format = \"Turtle\"\n",
      "compress = false\n",
      "write_stats = true\n",
      "parallel_writing = false\n",
      "parallel_file_count = 0\n",
      "\n",
      "[parallel]\n",
      "worker_threads = 4\n",
      "batch_size = 100\n",
      "parallel_shapes = true\n",
      "parallel_fields = true\n",
      "\n",
      "======================================================================\n"
     ]
    }
   ],
   "source": [
    "# Create a configuration\n",
    "config = pyrudof.GeneratorConfig()\n",
    "config.set_entity_count(100)\n",
    "config.set_output_path(\"/tmp/from_config.ttl\")\n",
    "config.set_output_format(pyrudof.OutputFormat.Turtle)\n",
    "config.set_cardinality_strategy(pyrudof.CardinalityStrategy.Balanced)\n",
    "config.set_write_stats(True)\n",
    "config.set_worker_threads(4)\n",
    "\n",
    "# Save to TOML file\n",
    "config_file = \"/tmp/generator_config.toml\"\n",
    "config.to_toml_file(config_file)\n",
    "\n",
    "print(\"✓ Configuration saved to TOML file\")\n",
    "print(\"\\nConfiguration file contents:\")\n",
    "print(\"=\" * 70)\n",
    "with open(config_file, 'r') as f:\n",
    "    print(f.read())\n",
    "print(\"=\" * 70)"
   ]
  },
  {
   "cell_type": "code",
   "execution_count": 14,
   "id": "dde9d512",
   "metadata": {},
   "outputs": [
    {
     "name": "stdout",
     "output_type": "stream",
     "text": [
      "✓ Configuration loaded from file\n",
      "  Entity count: 100\n",
      "  Output path: /tmp/from_config.ttl\n",
      "\n",
      "✓ Configuration modified\n",
      "  New entity count: 50\n"
     ]
    }
   ],
   "source": [
    "# Load configuration from file\n",
    "loaded_config = pyrudof.GeneratorConfig.from_toml_file(config_file)\n",
    "\n",
    "print(\"✓ Configuration loaded from file\")\n",
    "print(f\"  Entity count: {loaded_config.get_entity_count()}\")\n",
    "print(f\"  Output path: {loaded_config.get_output_path()}\")\n",
    "\n",
    "# You can override settings after loading\n",
    "loaded_config.set_entity_count(50)\n",
    "loaded_config.set_output_path(\"/tmp/from_config_modified.ttl\")\n",
    "\n",
    "print(\"\\n✓ Configuration modified\")\n",
    "print(f\"  New entity count: {loaded_config.get_entity_count()}\")"
   ]
  },
  {
   "cell_type": "markdown",
   "id": "79217ef1",
   "metadata": {},
   "source": [
    "## Part 6: Different Output Formats\n",
    "\n",
    "The generator supports multiple RDF output formats."
   ]
  },
  {
   "cell_type": "code",
   "execution_count": 15,
   "id": "2b1dfa05",
   "metadata": {},
   "outputs": [
    {
     "name": "stdout",
     "output_type": "stream",
     "text": [
      "Turtle Format:\n",
      "======================================================================\n",
      "<http://example.org/Course-1-0> a <http://example.org/Course> ;\n",
      "\t<http://example.org/name> \"Alpha355\" .\n",
      "<http://example.org/Course-1> a <http://example.org/Course> ;\n",
      "\t<http://example.org/name> \"Gamma545\" .\n",
      "<http://example.org/Person-2> <http://example.org/birthdate> \"2008-06-09\"^^<http://www.w3.org/2001/XMLSchema#date> ;\n",
      "\ta <http://example.org/Person> ;\n",
      "\t<http://example.org/enrolledIn> <http://example.org/Course-1-0> , <http://example.org/Course-1> ;\n",
      "\t<http://example.org/name> \"Gamma724\" .\n",
      "<http\n",
      "...\n",
      "======================================================================\n",
      "<http://example.org/Course-1-0> a <http://example.org/Course> ;\n",
      "\t<http://example.org/name> \"Alpha355\" .\n",
      "<http://example.org/Course-1> a <http://example.org/Course> ;\n",
      "\t<http://example.org/name> \"Gamma545\" .\n",
      "<http://example.org/Person-2> <http://example.org/birthdate> \"2008-06-09\"^^<http://www.w3.org/2001/XMLSchema#date> ;\n",
      "\ta <http://example.org/Person> ;\n",
      "\t<http://example.org/enrolledIn> <http://example.org/Course-1-0> , <http://example.org/Course-1> ;\n",
      "\t<http://example.org/name> \"Gamma724\" .\n",
      "<http\n",
      "...\n",
      "======================================================================\n"
     ]
    }
   ],
   "source": [
    "# Generate in Turtle format\n",
    "config_turtle = pyrudof.GeneratorConfig()\n",
    "config_turtle.set_entity_count(3)\n",
    "config_turtle.set_output_path(\"/tmp/tutorial_output.ttl\")\n",
    "config_turtle.set_output_format(pyrudof.OutputFormat.Turtle)\n",
    "\n",
    "generator_turtle = pyrudof.DataGenerator(config_turtle)\n",
    "generator_turtle.run(schema_path)\n",
    "\n",
    "print(\"Turtle Format:\")\n",
    "print(\"=\" * 70)\n",
    "with open(\"/tmp/tutorial_output.ttl\", 'r') as f:\n",
    "    print(f.read()[:500])\n",
    "print(\"...\")\n",
    "print(\"=\" * 70)"
   ]
  },
  {
   "cell_type": "code",
   "execution_count": 16,
   "id": "fda5098d",
   "metadata": {},
   "outputs": [
    {
     "name": "stdout",
     "output_type": "stream",
     "text": [
      "NTriples Format:\n",
      "======================================================================\n",
      "<http://example.org/Course-2> <http://example.org/name> \"Gamma161\" .\n",
      "<http://example.org/Course-2> <http://www.w3.org/1999/02/22-rdf-syntax-ns#type> <http://example.org/Course> .\n",
      "<http://example.org/Course-1> <http://example.org/name> \"Beta838\" .\n",
      "<http://example.org/Course-1> <http://www.w3.org/1999/02/22-rdf-syntax-ns#type> <http://example.org/Course> .\n",
      "<http://example.org/Person-1> <http://example.org/name> \"Gamma562\" .\n",
      "<http://example.org/Person-1> <http://www.w3.org/1999/02/22-rdf-syntax-ns#\n",
      "...\n",
      "======================================================================\n"
     ]
    }
   ],
   "source": [
    "# Generate in NTriples format\n",
    "config_ntriples = pyrudof.GeneratorConfig()\n",
    "config_ntriples.set_entity_count(3)\n",
    "config_ntriples.set_output_path(\"/tmp/tutorial_output.nt\")\n",
    "config_ntriples.set_output_format(pyrudof.OutputFormat.NTriples)\n",
    "\n",
    "generator_ntriples = pyrudof.DataGenerator(config_ntriples)\n",
    "generator_ntriples.run(schema_path)\n",
    "\n",
    "print(\"NTriples Format:\")\n",
    "print(\"=\" * 70)\n",
    "with open(\"/tmp/tutorial_output.nt\", 'r') as f:\n",
    "    print(f.read()[:500])\n",
    "print(\"...\")\n",
    "print(\"=\" * 70)"
   ]
  },
  {
   "cell_type": "code",
   "execution_count": 17,
   "id": "1896e08b",
   "metadata": {},
   "outputs": [
    {
     "name": "stdout",
     "output_type": "stream",
     "text": [
      "✓ SHACL schema created\n",
      "✓ Data generated from SHACL schema\n",
      "\n",
      "Generated data from SHACL:\n",
      "======================================================================\n",
      "<http://example.org/PersonShape-2> <http://example.org/age> 3594 ;\n",
      "\t<http://example.org/name> \"Epsilon154\" ;\n",
      "\ta <http://example.org/PersonShape> .\n",
      "<http://example.org/PersonShape-6> <http://example.org/age> 9061 ;\n",
      "\t<http://example.org/name> \"Epsilon268\" ;\n",
      "\ta <http://example.org/PersonShape> .\n",
      "<http://example.org/PersonShape-5> <http://example.org/age> 9707 ;\n",
      "\t<http://example.org/name> \"Gamma193\" ;\n",
      "\ta <http://example.org/PersonShape> .\n",
      "<http://example.org/PersonShape-4> <http://example.org/age> 1\n",
      "...\n",
      "======================================================================\n"
     ]
    }
   ],
   "source": [
    "# Create a simple SHACL schema\n",
    "shacl_schema = \"\"\"\n",
    "@prefix sh: <http://www.w3.org/ns/shacl#> .\n",
    "@prefix ex: <http://example.org/> .\n",
    "@prefix xsd: <http://www.w3.org/2001/XMLSchema#> .\n",
    "\n",
    "ex:PersonShape\n",
    "    a sh:NodeShape ;\n",
    "    sh:targetClass ex:Person ;\n",
    "    sh:property [\n",
    "        sh:path ex:name ;\n",
    "        sh:datatype xsd:string ;\n",
    "        sh:minCount 1 ;\n",
    "        sh:maxCount 1 ;\n",
    "    ] ;\n",
    "    sh:property [\n",
    "        sh:path ex:age ;\n",
    "        sh:datatype xsd:integer ;\n",
    "        sh:minCount 1 ;\n",
    "        sh:maxCount 1 ;\n",
    "    ] .\n",
    "\"\"\"\n",
    "\n",
    "# Save SHACL schema\n",
    "shacl_path = \"/tmp/tutorial_schema.shacl.ttl\"\n",
    "with open(shacl_path, 'w') as f:\n",
    "    f.write(shacl_schema)\n",
    "\n",
    "print(\"✓ SHACL schema created\")\n",
    "\n",
    "# Generate data from SHACL schema\n",
    "shacl_config = pyrudof.GeneratorConfig()\n",
    "shacl_config.set_entity_count(10)\n",
    "shacl_config.set_output_path(\"/tmp/tutorial_shacl_output.ttl\")\n",
    "shacl_config.set_output_format(pyrudof.OutputFormat.Turtle)\n",
    "\n",
    "shacl_generator = pyrudof.DataGenerator(shacl_config)\n",
    "\n",
    "# Explicitly load as SHACL\n",
    "shacl_generator.load_shacl_schema(shacl_path)\n",
    "shacl_generator.generate()\n",
    "\n",
    "print(\"✓ Data generated from SHACL schema\")\n",
    "\n",
    "# View the generated data\n",
    "with open(\"/tmp/tutorial_shacl_output.ttl\", 'r') as f:\n",
    "    shacl_output = f.read()\n",
    "\n",
    "print(\"\\nGenerated data from SHACL:\")\n",
    "print(\"=\" * 70)\n",
    "print(shacl_output[:500])\n",
    "print(\"...\")\n",
    "print(\"=\" * 70)"
   ]
  },
  {
   "cell_type": "markdown",
   "id": "66d782db",
   "metadata": {},
   "source": [
    "# Part 7 Working with SHACL Schemas\n",
    "\n",
    "The generator also supports SHACL schemas in addition to ShEx."
   ]
  },
  {
   "cell_type": "code",
   "execution_count": 18,
   "id": "c6cf1b4e",
   "metadata": {},
   "outputs": [
    {
     "name": "stdout",
     "output_type": "stream",
     "text": [
      "Configuration Overview:\n",
      "================================================================================\n",
      "GeneratorConfig { generation: GenerationConfig { entity_count: 50, seed: None, entity_distribution: Equal, cardinality_strategy: Balanced, schema_format: None }, field_generators: FieldGeneratorConfig { default: DefaultFieldConfig { locale: \"en\", quality: Medium }, datatypes: {}, properties: {} }, output: OutputConfig { path: \"/tmp/inspect_output.ttl\", format: Turtle, compress: false, write_stats: true, parallel_writing: false, parallel_file_count: 0 }, parallel: ParallelConfig { worker_threads: Some(4), batch_size: 100, parallel_shapes: true, parallel_fields: true } }\n",
      "================================================================================\n",
      "\n",
      "You can use show() to debug configuration issues or document your setup.\n"
     ]
    }
   ],
   "source": [
    "# Create a fully configured generator and inspect it\n",
    "inspect_config = pyrudof.GeneratorConfig()\n",
    "inspect_config.set_entity_count(50)\n",
    "inspect_config.set_output_path(\"/tmp/inspect_output.ttl\")\n",
    "inspect_config.set_output_format(pyrudof.OutputFormat.Turtle)\n",
    "inspect_config.set_cardinality_strategy(pyrudof.CardinalityStrategy.Balanced)\n",
    "inspect_config.set_worker_threads(4)\n",
    "inspect_config.set_batch_size(100)\n",
    "inspect_config.set_write_stats(True)\n",
    "inspect_config.set_compress(False)\n",
    "\n",
    "print(\"Configuration Overview:\")\n",
    "print(\"=\" * 80)\n",
    "print(inspect_config.show())\n",
    "print(\"=\" * 80)\n",
    "\n",
    "print(\"\\nYou can use show() to debug configuration issues or document your setup.\")"
   ]
  },
  {
   "cell_type": "markdown",
   "id": "a0cb5aa6",
   "metadata": {},
   "source": [
    "### Inspecting Configuration\n",
    "\n",
    "You can view the current configuration settings using the `show()` method."
   ]
  },
  {
   "cell_type": "code",
   "execution_count": 19,
   "id": "dd9b3f59",
   "metadata": {},
   "outputs": [
    {
     "name": "stdout",
     "output_type": "stream",
     "text": [
      "✓ Method 1: Explicit ShEx loading and generation completed\n",
      "✓ Method 2: run_with_format completed\n",
      "✓ Method 3: Auto-detect and generation completed\n",
      "\n",
      "All three methods produce equivalent results!\n"
     ]
    }
   ],
   "source": [
    "# Method 1: Explicit ShEx loading\n",
    "explicit_config = pyrudof.GeneratorConfig()\n",
    "explicit_config.set_entity_count(5)\n",
    "explicit_config.set_output_path(\"/tmp/tutorial_explicit_shex.ttl\")\n",
    "explicit_config.set_output_format(pyrudof.OutputFormat.Turtle)\n",
    "\n",
    "generator_explicit = pyrudof.DataGenerator(explicit_config)\n",
    "\n",
    "# Explicitly load ShEx schema\n",
    "generator_explicit.load_shex_schema(schema_path)\n",
    "\n",
    "# Then generate data\n",
    "generator_explicit.generate()\n",
    "\n",
    "print(\"✓ Method 1: Explicit ShEx loading and generation completed\")\n",
    "\n",
    "# Method 2: Using run_with_format for explicit format specification\n",
    "format_config = pyrudof.GeneratorConfig()\n",
    "format_config.set_entity_count(5)\n",
    "format_config.set_output_path(\"/tmp/tutorial_with_format.ttl\")\n",
    "format_config.set_output_format(pyrudof.OutputFormat.Turtle)\n",
    "\n",
    "generator_format = pyrudof.DataGenerator(format_config)\n",
    "generator_format.run_with_format(schema_path, pyrudof.SchemaFormat.ShEx)\n",
    "\n",
    "print(\"✓ Method 2: run_with_format completed\")\n",
    "\n",
    "# Method 3: Auto-detect (this is what run() does internally)\n",
    "auto_config = pyrudof.GeneratorConfig()\n",
    "auto_config.set_entity_count(5)\n",
    "auto_config.set_output_path(\"/tmp/tutorial_auto.ttl\")\n",
    "auto_config.set_output_format(pyrudof.OutputFormat.Turtle)\n",
    "\n",
    "generator_auto = pyrudof.DataGenerator(auto_config)\n",
    "generator_auto.load_schema_auto(schema_path)\n",
    "generator_auto.generate()\n",
    "\n",
    "print(\"✓ Method 3: Auto-detect and generation completed\")\n",
    "\n",
    "print(\"\\nAll three methods produce equivalent results!\")"
   ]
  },
  {
   "cell_type": "markdown",
   "id": "21537b27",
   "metadata": {},
   "source": [
    "### Entity Distribution and Analysis\n",
    "\n",
    "Understanding the distribution of entity types in your generated dataset is important for realistic testing scenarios. While custom entity distribution ratios may be available in future versions, we can analyze the natural distribution that results from the schema constraints and cardinality strategies."
   ]
  },
  {
   "cell_type": "code",
   "execution_count": 22,
   "id": "1ac69122",
   "metadata": {},
   "outputs": [
    {
     "name": "stdout",
     "output_type": "stream",
     "text": [
      "✓ Entity distribution configuration:\n",
      "  Total entities: 30\n",
      "  Note: Using natural distribution (determined by schema constraints)\n",
      "\n",
      "✓ Data generated successfully\n",
      "\n",
      "Actual distribution:\n",
      "  Persons: 15\n",
      "  Courses: 22\n",
      "  Ratio: 40.5% / 59.5%\n",
      "\n",
      "📊 Total triples generated: 95\n",
      "\n",
      "Note: Custom entity distribution ratios may be available in future versions.\n",
      "Currently, the generator creates entities based on schema constraints and cardinality strategies.\n"
     ]
    }
   ],
   "source": [
    "# Configure entity distribution\n",
    "# Control how many entities of each type are generated\n",
    "distribution_config = pyrudof.GeneratorConfig()\n",
    "distribution_config.set_entity_count(30)\n",
    "distribution_config.set_output_path(\"/tmp/tutorial_distribution.ttl\")\n",
    "distribution_config.set_output_format(pyrudof.OutputFormat.Turtle)\n",
    "distribution_config.set_write_stats(True)\n",
    "\n",
    "# Note: Entity distribution feature may require specific API - \n",
    "# For now, we'll demonstrate the concept without the distribution setting\n",
    "# and show how to generate data normally, then analyze the natural distribution\n",
    "\n",
    "print(\"✓ Entity distribution configuration:\")\n",
    "print(f\"  Total entities: {distribution_config.get_entity_count()}\")\n",
    "print(f\"  Note: Using natural distribution (determined by schema constraints)\")\n",
    "\n",
    "# Generate data with the configuration\n",
    "distribution_generator = pyrudof.DataGenerator(distribution_config)\n",
    "distribution_generator.run(schema_path)\n",
    "\n",
    "print(\"\\n✓ Data generated successfully\")\n",
    "\n",
    "# Analyze the natural distribution in the generated data\n",
    "with open(\"/tmp/tutorial_distribution.ttl\", 'r') as f:\n",
    "    distribution_output = f.read()\n",
    "\n",
    "person_count = distribution_output.count('a <http://example.org/Person>')\n",
    "course_count = distribution_output.count('a <http://example.org/Course>')\n",
    "total_entities = person_count + course_count\n",
    "\n",
    "if total_entities > 0:\n",
    "    print(f\"\\nActual distribution:\")\n",
    "    print(f\"  Persons: {person_count}\")\n",
    "    print(f\"  Courses: {course_count}\")\n",
    "    print(f\"  Ratio: {person_count/total_entities:.1%} / {course_count/total_entities:.1%}\")\n",
    "else:\n",
    "    print(\"\\nNo entities found in generated data\")\n",
    "\n",
    "# View statistics\n",
    "stats_path = \"/tmp/tutorial_distribution.stats.json\"\n",
    "if os.path.exists(stats_path):\n",
    "    with open(stats_path, 'r') as f:\n",
    "        stats = json.load(f)\n",
    "    print(f\"\\n📊 Total triples generated: {stats.get('total_triples', 0)}\")\n",
    "\n",
    "print(\"\\nNote: Custom entity distribution ratios may be available in future versions.\")\n",
    "print(\"Currently, the generator creates entities based on schema constraints and cardinality strategies.\")"
   ]
  },
  {
   "cell_type": "markdown",
   "id": "99dba77d",
   "metadata": {},
   "source": [
    "### Parallel Writing for Large Datasets\n",
    "\n",
    "When generating very large datasets, you can split the output across multiple files for better performance."
   ]
  },
  {
   "cell_type": "markdown",
   "id": "f5a41dce",
   "metadata": {},
   "source": [
    "## Summary\n",
    "\n",
    "In this tutorial, you learned:\n",
    "\n",
    "### Core Features\n",
    "1. **Basic Setup** - Import and initialize the pyrudof library\n",
    "2. **Simple Data Generation** - Generate RDF data from ShEx schemas\n",
    "3. **Advanced Configuration** - Fine-tune generation with multiple options\n",
    "4. **Cardinality Strategies** - Control relationship density (Minimum, Maximum, Random, Balanced)\n",
    "5. **Configuration Files** - Save and load settings from TOML files\n",
    "6. **Output Formats** - Generate data in Turtle, NTriples, and other RDF formats\n",
    "\n",
    "### Advanced Features\n",
    "7. **SHACL Schema Support** - Generate data from SHACL schemas\n",
    "8. **Configuration Inspection** - View and debug configuration settings with `show()`\n",
    "9. **Explicit Schema Loading** - Load schemas explicitly (ShEx/SHACL) or auto-detect\n",
    "10. **JSON Configuration** - Work with JSON configuration files\n",
    "11. **Parallel Writing** - Split large datasets across multiple files\n",
    "12. **Entity Distribution** - Control proportions of different entity types\n",
    "\n",
    "## Next Steps\n",
    "\n",
    "- Try with your own ShEx or SHACL schemas\n",
    "- Generate larger datasets for testing\n",
    "- Experiment with parallel processing and parallel writing settings\n",
    "- Integrate into your data pipelines\n",
    "- Validate generated data against schemas\n",
    "- Test different cardinality strategies for your use case\n",
    "\n",
    "## Resources\n",
    "\n",
    "- [rudof Documentation](https://rudof-project.github.io/rudof/)\n",
    "- [Python Bindings README](../python/README.md)\n",
    "- [Examples Directory](../python/examples/)\n",
    "- [Quick Reference](../python/GENERATE_BINDINGS_QUICKREF.md)"
   ]
  },
  {
   "cell_type": "code",
   "execution_count": 23,
   "id": "170002ec",
   "metadata": {},
   "outputs": [
    {
     "name": "stdout",
     "output_type": "stream",
     "text": [
      "Generated 34 temporary files during this tutorial\n",
      "\n",
      "To clean up, you can remove files in /tmp/tutorial_*\n"
     ]
    }
   ],
   "source": [
    "# Clean up temporary files (optional)\n",
    "import glob\n",
    "\n",
    "temp_files = glob.glob(\"/tmp/tutorial_*\")\n",
    "print(f\"Generated {len(temp_files)} temporary files during this tutorial\")\n",
    "print(\"\\nTo clean up, you can remove files in /tmp/tutorial_*\")"
   ]
  }
 ],
 "metadata": {
  "kernelspec": {
   "display_name": "Python 3",
   "language": "python",
   "name": "python3"
  },
  "language_info": {
   "codemirror_mode": {
    "name": "ipython",
    "version": 3
   },
   "file_extension": ".py",
   "mimetype": "text/x-python",
   "name": "python",
   "nbconvert_exporter": "python",
   "pygments_lexer": "ipython3",
   "version": "3.10.12"
  }
 },
 "nbformat": 4,
 "nbformat_minor": 5
}
